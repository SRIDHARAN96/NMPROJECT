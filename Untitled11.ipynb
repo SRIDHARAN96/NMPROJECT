{
  "nbformat": 4,
  "nbformat_minor": 0,
  "metadata": {
    "colab": {
      "provenance": [],
      "authorship_tag": "ABX9TyOBGo3VQ+2zGrv4Z/ezhe+P",
      "include_colab_link": true
    },
    "kernelspec": {
      "name": "python3",
      "display_name": "Python 3"
    },
    "language_info": {
      "name": "python"
    }
  },
  "cells": [
    {
      "cell_type": "markdown",
      "metadata": {
        "id": "view-in-github",
        "colab_type": "text"
      },
      "source": [
        "<a href=\"https://colab.research.google.com/github/SRIDHARAN96/NMPROJECT/blob/main/Untitled11.ipynb\" target=\"_parent\"><img src=\"https://colab.research.google.com/assets/colab-badge.svg\" alt=\"Open In Colab\"/></a>"
      ]
    },
    {
      "cell_type": "code",
      "execution_count": 1,
      "metadata": {
        "colab": {
          "base_uri": "https://localhost:8080/"
        },
        "id": "B0nuGdnF92QJ",
        "outputId": "5b828853-b8af-46a0-8020-1a4ca20898d4"
      },
      "outputs": [
        {
          "output_type": "stream",
          "name": "stderr",
          "text": [
            "[nltk_data] Downloading package vader_lexicon to /root/nltk_data...\n"
          ]
        },
        {
          "output_type": "stream",
          "name": "stdout",
          "text": [
            "     neg    neu    pos  compound\n",
            "0  0.000  0.308  0.692    0.6696\n",
            "1  0.000  0.612  0.388    0.2263\n",
            "2  0.649  0.351  0.000   -0.5719\n",
            "3  0.000  0.477  0.523    0.6588\n",
            "4  0.437  0.563  0.000   -0.4767\n"
          ]
        }
      ],
      "source": [
        "import nltk\n",
        "import pandas as pd\n",
        "import numpy as np\n",
        "from nltk.sentiment.vader import SentimentIntensityAnalyzer\n",
        "\n",
        "# Download the VADER lexicon if not already downloaded\n",
        "nltk.download('vader_lexicon')\n",
        "\n",
        "def sentiment_analysis(text):\n",
        "    \"\"\"\n",
        "    Analyze the sentiment of a given text.\n",
        "\n",
        "    Args:\n",
        "        text (str): The text to analyze.\n",
        "\n",
        "    Returns:\n",
        "        dict: A dictionary containing the sentiment scores.\n",
        "    \"\"\"\n",
        "    sia = SentimentIntensityAnalyzer()\n",
        "    sentiment = sia.polarity_scores(text)\n",
        "    return sentiment\n",
        "\n",
        "def analyze_conversations(conversations):\n",
        "    \"\"\"\n",
        "    Analyze the sentiment of a list of social media conversations.\n",
        "\n",
        "    Args:\n",
        "        conversations (list): A list of conversations.\n",
        "\n",
        "    Returns:\n",
        "        pd.DataFrame: A DataFrame containing the sentiment analysis results.\n",
        "    \"\"\"\n",
        "    sentiments = []\n",
        "    for conversation in conversations:\n",
        "        sentiment = sentiment_analysis(conversation)\n",
        "        sentiments.append(sentiment)\n",
        "\n",
        "    df = pd.DataFrame(sentiments)\n",
        "    return df\n",
        "\n",
        "# Example usage\n",
        "conversations = [\n",
        "    \"I love this product!\",\n",
        "    \"This product is okay.\",\n",
        "    \"I hate this product.\",\n",
        "    \"The customer service is great!\",\n",
        "    \"The customer service is terrible.\"\n",
        "]\n",
        "\n",
        "df = analyze_conversations(conversations)\n",
        "print(df)"
      ]
    }
  ]
}